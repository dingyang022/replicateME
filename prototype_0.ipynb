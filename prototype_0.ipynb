{
 "cells": [
  {
   "cell_type": "code",
   "execution_count": 4,
   "metadata": {
    "collapsed": true
   },
   "outputs": [],
   "source": [
    "import cPickle"
   ]
  },
  {
   "cell_type": "code",
   "execution_count": null,
   "metadata": {
    "collapsed": true
   },
   "outputs": [],
   "source": []
  },
  {
   "cell_type": "markdown",
   "metadata": {},
   "source": [
    "Save the model"
   ]
  },
  {
   "cell_type": "code",
   "execution_count": null,
   "metadata": {
    "collapsed": true
   },
   "outputs": [],
   "source": [
    "with open(\"prototype_53.pickle\", \"wb\") as outfile:\n",
    "    cPickle.dump(me, outfile)"
   ]
  },
  {
   "cell_type": "markdown",
   "metadata": {},
   "source": [
    "Solve the model"
   ]
  },
  {
   "cell_type": "code",
   "execution_count": 5,
   "metadata": {
    "collapsed": false
   },
   "outputs": [],
   "source": [
    "f1=open(\"prototype_53.pickle\")\n",
    "me=cPickle.load(f1)\n",
    "f1.close()"
   ]
  },
  {
   "cell_type": "code",
   "execution_count": 7,
   "metadata": {
    "collapsed": false,
    "scrolled": true
   },
   "outputs": [
    {
     "name": "stdout",
     "output_type": "stream",
     "text": [
      "iter\tmuopt    \ta     \tb     \tmu1       \tmu2       \tstat1  \tstat2\n",
      "Finished compiling expressions in 62.618090 seconds\n",
      "Finished substituting S,lb,ub in 1.810994 seconds\n",
      "Finished makeME_LP in 0.559093 seconds\n",
      "Finished substituting S,lb,ub in 1.810246 seconds\n",
      "Finished makeME_LP in 0.562628 seconds\n",
      "1 0.7639320225 0.7639320225 1.2360679775 0.7639320225 1.2360679775 optimal 1\n",
      "Finished substituting S,lb,ub in 1.794896 seconds\n",
      "Finished makeME_LP in 0.561269 seconds\n",
      "2 0.7639320225 0.7639320225 0.944271909999 0.944271909999 1.05572809 1 infeasible\n",
      "Finished substituting S,lb,ub in 1.799592 seconds\n",
      "Finished makeME_LP in 0.563667 seconds\n",
      "Finished substituting S,lb,ub in 1.788636 seconds\n",
      "Finished makeME_LP in 0.556264 seconds\n",
      "3 0.832815729997 0.832815729997 0.875388202502 0.832815729997 0.875388202502 optimal 1\n",
      "Finished substituting S,lb,ub in 1.781880 seconds\n",
      "Finished makeME_LP in 0.556267 seconds\n",
      "Finished substituting S,lb,ub in 1.783991 seconds\n",
      "Finished makeME_LP in 0.551935 seconds\n",
      "4 0.85912696499 0.85912696499 0.875388202502 0.849076967509 0.85912696499 optimal optimal\n",
      "Finished substituting S,lb,ub in 1.787882 seconds\n",
      "Finished makeME_LP in 0.554250 seconds\n",
      "5 0.85912696499 0.85912696499 0.865338205021 0.865338205021 0.869176962472 1 infeasible\n",
      "Finished substituting S,lb,ub in 1.791728 seconds\n",
      "Finished makeME_LP in 0.554438 seconds\n",
      "6 0.85912696499 0.85912696499 0.86149944757 0.86149944757 0.862965722441 1 infeasible\n",
      "Finished substituting S,lb,ub in 1.787207 seconds\n",
      "Finished makeME_LP in 0.556291 seconds\n",
      "7 0.85912696499 0.85912696499 0.860033172698 0.860033172698 0.860593239862 1 infeasible\n",
      "Finished substituting S,lb,ub in 1.793473 seconds\n",
      "Finished makeME_LP in 0.555128 seconds\n",
      "Finished substituting S,lb,ub in 1.794451 seconds\n",
      "Finished makeME_LP in 0.553426 seconds\n",
      "8 0.859687032154 0.859687032154 0.860033172698 0.859473105534 0.859687032154 optimal optimal\n",
      "Finished substituting S,lb,ub in 1.784528 seconds\n",
      "Finished makeME_LP in 0.555785 seconds\n",
      "Finished substituting S,lb,ub in 1.792804 seconds\n",
      "Finished makeME_LP in 0.558104 seconds\n",
      "9 0.859900958775 0.859900958775 0.860033172698 0.859819246077 0.859900958775 optimal optimal\n",
      "Finished substituting S,lb,ub in 1.785400 seconds\n",
      "Finished makeME_LP in 0.554126 seconds\n",
      "Finished substituting S,lb,ub in 1.785502 seconds\n",
      "Finished makeME_LP in 0.557080 seconds\n",
      "10 0.859982671473 0.859982671473 0.860033172698 0.85995146 0.859982671473 optimal optimal\n",
      "Finished substituting S,lb,ub in 1.800152 seconds\n",
      "Finished makeME_LP in 0.554717 seconds\n",
      "11 0.859982671473 0.859982671473 0.860001961225 0.860001961225 0.860013882947 1 infeasible\n",
      "Finished substituting S,lb,ub in 1.789235 seconds\n",
      "Finished makeME_LP in 0.555239 seconds\n",
      "Finished substituting S,lb,ub in 1.782588 seconds\n",
      "Finished makeME_LP in 0.558603 seconds\n",
      "12 0.859990039503 0.859990039503 0.859994593195 0.859990039503 0.859994593195 optimal 1\n",
      "Finished substituting S,lb,ub in 1.797482 seconds\n",
      "Finished makeME_LP in 0.556072 seconds\n",
      "Finished substituting S,lb,ub in 1.790039 seconds\n",
      "Finished makeME_LP in 0.556176 seconds\n",
      "13 0.859992853839 0.859992853839 0.859994593195 0.859991778858 0.859992853839 optimal optimal\n",
      "Finished substituting S,lb,ub in 1.793515 seconds\n",
      "Finished makeME_LP in 0.555259 seconds\n",
      "14 0.859992853839 0.859992853839 0.859993518214 0.859993518214 0.85999392882 1 infeasible\n",
      "Finished substituting S,lb,ub in 1.794637 seconds\n",
      "Finished makeME_LP in 0.554264 seconds\n",
      "15 0.859992853839 0.859992853839 0.859993107608 0.859993107608 0.859993264446 1 infeasible\n",
      "Finished substituting S,lb,ub in 1.799108 seconds\n",
      "Finished makeME_LP in 0.553052 seconds\n",
      "16 0.859992853839 0.859992853839 0.85999295077 0.85999295077 0.859993010677 1 infeasible\n",
      "Finished substituting S,lb,ub in 1.797047 seconds\n",
      "Finished makeME_LP in 0.554683 seconds\n",
      "Finished substituting S,lb,ub in 1.799512 seconds\n",
      "Finished makeME_LP in 0.557574 seconds\n",
      "17 0.859992890864 0.859992890864 0.859992913746 0.859992890864 0.859992913746 optimal 1\n",
      "Finished substituting S,lb,ub in 1.785414 seconds\n",
      "Finished makeME_LP in 0.555904 seconds\n",
      "Finished substituting S,lb,ub in 1.789078 seconds\n",
      "Finished makeME_LP in 0.551581 seconds\n",
      "18 0.859992905006 0.859992905006 0.859992913746 0.859992899604 0.859992905006 optimal optimal\n",
      "Finished substituting S,lb,ub in 1.787183 seconds\n",
      "Finished makeME_LP in 0.554001 seconds\n",
      "Finished substituting S,lb,ub in 1.813183 seconds\n",
      "Finished makeME_LP in 0.556199 seconds\n",
      "19 0.859992910408 0.859992910408 0.859992913746 0.859992908344 0.859992910408 optimal optimal\n",
      "Finished substituting S,lb,ub in 1.787839 seconds\n",
      "Finished makeME_LP in 0.557426 seconds\n",
      "20 0.859992910408 0.859992910408 0.859992911683 0.859992911683 0.859992912471 1 infeasible\n",
      "Finished substituting S,lb,ub in 1.794090 seconds\n",
      "Finished makeME_LP in 0.555466 seconds\n",
      "Finished substituting S,lb,ub in 1.784132 seconds\n",
      "Finished makeME_LP in 0.555582 seconds\n",
      "21 0.859992911196 0.859992911196 0.859992911683 0.859992910895 0.859992911196 optimal optimal\n",
      "Finished substituting S,lb,ub in 1.784923 seconds\n",
      "Finished makeME_LP in 0.553461 seconds\n",
      "22 0.859992911196 0.859992911196 0.859992911382 0.859992911382 0.859992911497 1 infeasible\n",
      "Finished substituting S,lb,ub in 1.800783 seconds\n",
      "Finished makeME_LP in 0.559145 seconds\n",
      "Finished substituting S,lb,ub in 1.793562 seconds\n",
      "Finished makeME_LP in 0.558875 seconds\n",
      "23 0.859992911267 0.859992911267 0.859992911311 0.859992911267 0.859992911311 optimal 1\n",
      "Bisection done in 328.467 seconds\n"
     ]
    },
    {
     "data": {
      "text/plain": [
       "0.85999291126671495"
      ]
     },
     "execution_count": 7,
     "metadata": {},
     "output_type": "execute_result"
    }
   ],
   "source": [
    "from qminos.me1 import ME_NLP1\n",
    "me_nlp = ME_NLP1(me, growth_key='mu')\n",
    "muopt, hs, xopt, cache = me_nlp.bisectme(precision=1e-10)  \n",
    "me.solution.x_dict[\"biomass_dilution\"]"
   ]
  },
  {
   "cell_type": "code",
   "execution_count": null,
   "metadata": {
    "collapsed": true
   },
   "outputs": [],
   "source": []
  }
 ],
 "metadata": {
  "kernelspec": {
   "display_name": "Python 2",
   "language": "python",
   "name": "python2"
  },
  "language_info": {
   "codemirror_mode": {
    "name": "ipython",
    "version": 2
   },
   "file_extension": ".py",
   "mimetype": "text/x-python",
   "name": "python",
   "nbconvert_exporter": "python",
   "pygments_lexer": "ipython2",
   "version": "2.7.6"
  }
 },
 "nbformat": 4,
 "nbformat_minor": 0
}
